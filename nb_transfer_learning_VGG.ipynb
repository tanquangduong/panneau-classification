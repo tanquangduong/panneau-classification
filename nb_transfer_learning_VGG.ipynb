{
 "cells": [
  {
   "cell_type": "code",
   "execution_count": 9,
   "metadata": {},
   "outputs": [],
   "source": [
    "import os\n",
    "import time\n",
    "from PIL import Image\n",
    "import torch\n",
    "import torch.nn as nn\n",
    "import torch.optim as optim\n",
    "from torch.utils.data import Dataset, DataLoader, random_split\n",
    "from torchvision import datasets, transforms\n",
    "from tqdm import tqdm\n",
    "import numpy as np\n",
    "from torchsummary import summary\n",
    "import torch.nn as nn\n",
    "import torch.nn.functional as F\n",
    "import pandas as pd\n",
    "from torchvision import models\n",
    "\n",
    "class GTSRBDataset(Dataset):\n",
    "    def __init__(self, csv_file, root_dir, transform=None):\n",
    "        self.data = pd.read_csv(csv_file)\n",
    "        self.root_dir = root_dir\n",
    "        self.transform = transform\n",
    "        # print(f\"Loaded {len(self.data)} samples from {csv_file}\")\n",
    "\n",
    "    def __len__(self):\n",
    "        return len(self.data)\n",
    "\n",
    "    def __getitem__(self, idx):\n",
    "        img_path = os.path.join(self.root_dir, self.data.iloc[idx, 7]) # Path is in column 7\n",
    "        # print(f\"Loading image from {img_path}\")\n",
    "        image = Image.open(img_path).convert('RGB')\n",
    "        label = self.data.iloc[idx, 6] # ClassId is in column 6\n",
    "\n",
    "        if self.transform:\n",
    "            image = self.transform(image)\n",
    "\n",
    "        # print(f\"Loaded image: {img_path}, Label: {label}\")\n",
    "        return image, label\n",
    "\n",
    "# Define the path to the training dataset\n",
    "train_dir = './data/Train'\n",
    "test_dir = './data/Test'\n",
    "model_dir = './model_vgg_transfer'\n",
    "os.makedirs(model_dir, exist_ok=True)"
   ]
  },
  {
   "cell_type": "code",
   "execution_count": 10,
   "metadata": {},
   "outputs": [
    {
     "name": "stdout",
     "output_type": "stream",
     "text": [
      "Number of training samples: 39209\n",
      "Number of test samples: 12630\n",
      "Checking image path: ./data\\Train/20/00020_00000_00000.png, Exists: True\n",
      "Checking image path: ./data\\Train/20/00020_00000_00001.png, Exists: True\n",
      "Checking image path: ./data\\Train/20/00020_00000_00002.png, Exists: True\n",
      "Checking image path: ./data\\Train/20/00020_00000_00003.png, Exists: True\n",
      "Checking image path: ./data\\Train/20/00020_00000_00004.png, Exists: True\n",
      "Number of batches in train_loader: 981\n",
      "Number of batches in val_loader: 246\n",
      "Number of batches in test_loader: 395\n"
     ]
    }
   ],
   "source": [
    "\n",
    "\n",
    "# Define image size and batch size\n",
    "image_size = (224, 224)\n",
    "batch_size = 32\n",
    "num_epochs = 10\n",
    "validation_split = 0.2\n",
    "\n",
    "# Define data augmentation and normalization transformations\n",
    "transform = transforms.Compose([\n",
    "    transforms.Resize(image_size),\n",
    "    transforms.RandomHorizontalFlip(),\n",
    "    transforms.RandomRotation(10),\n",
    "    transforms.ColorJitter(brightness=0.2, contrast=0.2, saturation=0.2, hue=0.2),\n",
    "    transforms.ToTensor(),\n",
    "    transforms.Normalize(mean=[0.485, 0.456, 0.406], std=[0.229, 0.224, 0.225])\n",
    "])\n",
    "\n",
    "transform_eval = transforms.Compose([\n",
    "    transforms.Resize(image_size),\n",
    "    transforms.ToTensor(),\n",
    "    transforms.Normalize(mean=[0.485, 0.456, 0.406], std=[0.229, 0.224, 0.225])\n",
    "])\n",
    "\n",
    "# Load datasets\n",
    "train_dataset = GTSRBDataset('./data/Train.csv', './data', transform=transform)\n",
    "test_dataset = GTSRBDataset('./data/Test.csv', './data', transform=transform_eval)\n",
    "\n",
    "# Print dataset lengths\n",
    "print(f\"Number of training samples: {len(train_dataset)}\")\n",
    "print(f\"Number of test samples: {len(test_dataset)}\")\n",
    "\n",
    "# Print first few rows of the dataset\n",
    "# print(train_dataset.data.head())\n",
    "\n",
    "# Check if the image files exist\n",
    "for idx in range(5):  # Check first 5 samples\n",
    "    img_path = os.path.join(train_dataset.root_dir, train_dataset.data.iloc[idx, 7])\n",
    "    print(f\"Checking image path: {img_path}, Exists: {os.path.exists(img_path)}\")\n",
    "\n",
    "# Split train dataset into train and validation\n",
    "train_size = int(0.8 * len(train_dataset))\n",
    "val_size = len(train_dataset) - train_size\n",
    "train_data, val_data = random_split(train_dataset, [train_size, val_size])\n",
    "\n",
    "# Create data loaders\n",
    "train_loader = DataLoader(train_data, batch_size=batch_size, shuffle=True)\n",
    "val_loader = DataLoader(val_data, batch_size=batch_size, shuffle=False)\n",
    "test_loader = DataLoader(test_dataset, batch_size=batch_size, shuffle=False)\n",
    "\n",
    "# Check if DataLoader is empty\n",
    "print(f\"Number of batches in train_loader: {len(train_loader)}\")\n",
    "print(f\"Number of batches in val_loader: {len(val_loader)}\")\n",
    "print(f\"Number of batches in test_loader: {len(test_loader)}\")\n",
    "\n",
    "# # Iterate over the train_loader and print labels\n",
    "# for images, labels in train_loader:\n",
    "#     print(labels)"
   ]
  },
  {
   "cell_type": "code",
   "execution_count": 11,
   "metadata": {},
   "outputs": [],
   "source": [
    "num_classes = 43"
   ]
  },
  {
   "cell_type": "code",
   "execution_count": 6,
   "metadata": {},
   "outputs": [
    {
     "name": "stdout",
     "output_type": "stream",
     "text": [
      "device: cuda\n"
     ]
    },
    {
     "name": "stderr",
     "output_type": "stream",
     "text": [
      "c:\\Users\\easyb\\Anaconda3\\envs\\cv\\lib\\site-packages\\torchvision\\models\\_utils.py:208: UserWarning: The parameter 'pretrained' is deprecated since 0.13 and may be removed in the future, please use 'weights' instead.\n",
      "  warnings.warn(\n",
      "c:\\Users\\easyb\\Anaconda3\\envs\\cv\\lib\\site-packages\\torchvision\\models\\_utils.py:223: UserWarning: Arguments other than a weight enum or `None` for 'weights' are deprecated since 0.13 and may be removed in the future. The current behavior is equivalent to passing `weights=VGG16_BN_Weights.IMAGENET1K_V1`. You can also use `weights=VGG16_BN_Weights.DEFAULT` to get the most up-to-date weights.\n",
      "  warnings.warn(msg)\n",
      "Downloading: \"https://download.pytorch.org/models/vgg16_bn-6c64b313.pth\" to C:\\Users\\easyb/.cache\\torch\\hub\\checkpoints\\vgg16_bn-6c64b313.pth\n",
      "100%|██████████| 528M/528M [05:50<00:00, 1.58MB/s] \n"
     ]
    },
    {
     "name": "stdout",
     "output_type": "stream",
     "text": [
      "----------------------------------------------------------------\n",
      "        Layer (type)               Output Shape         Param #\n",
      "================================================================\n",
      "            Conv2d-1           [-1, 64, 32, 32]           1,792\n",
      "       BatchNorm2d-2           [-1, 64, 32, 32]             128\n",
      "              ReLU-3           [-1, 64, 32, 32]               0\n",
      "            Conv2d-4           [-1, 64, 32, 32]          36,928\n",
      "       BatchNorm2d-5           [-1, 64, 32, 32]             128\n",
      "              ReLU-6           [-1, 64, 32, 32]               0\n",
      "         MaxPool2d-7           [-1, 64, 16, 16]               0\n",
      "            Conv2d-8          [-1, 128, 16, 16]          73,856\n",
      "       BatchNorm2d-9          [-1, 128, 16, 16]             256\n",
      "             ReLU-10          [-1, 128, 16, 16]               0\n",
      "           Conv2d-11          [-1, 128, 16, 16]         147,584\n",
      "      BatchNorm2d-12          [-1, 128, 16, 16]             256\n",
      "             ReLU-13          [-1, 128, 16, 16]               0\n",
      "        MaxPool2d-14            [-1, 128, 8, 8]               0\n",
      "           Conv2d-15            [-1, 256, 8, 8]         295,168\n",
      "      BatchNorm2d-16            [-1, 256, 8, 8]             512\n",
      "             ReLU-17            [-1, 256, 8, 8]               0\n",
      "           Conv2d-18            [-1, 256, 8, 8]         590,080\n",
      "      BatchNorm2d-19            [-1, 256, 8, 8]             512\n",
      "             ReLU-20            [-1, 256, 8, 8]               0\n",
      "           Conv2d-21            [-1, 256, 8, 8]         590,080\n",
      "      BatchNorm2d-22            [-1, 256, 8, 8]             512\n",
      "             ReLU-23            [-1, 256, 8, 8]               0\n",
      "        MaxPool2d-24            [-1, 256, 4, 4]               0\n",
      "           Conv2d-25            [-1, 512, 4, 4]       1,180,160\n",
      "      BatchNorm2d-26            [-1, 512, 4, 4]           1,024\n",
      "             ReLU-27            [-1, 512, 4, 4]               0\n",
      "           Conv2d-28            [-1, 512, 4, 4]       2,359,808\n",
      "      BatchNorm2d-29            [-1, 512, 4, 4]           1,024\n",
      "             ReLU-30            [-1, 512, 4, 4]               0\n",
      "           Conv2d-31            [-1, 512, 4, 4]       2,359,808\n",
      "      BatchNorm2d-32            [-1, 512, 4, 4]           1,024\n",
      "             ReLU-33            [-1, 512, 4, 4]               0\n",
      "        MaxPool2d-34            [-1, 512, 2, 2]               0\n",
      "           Conv2d-35            [-1, 512, 2, 2]       2,359,808\n",
      "      BatchNorm2d-36            [-1, 512, 2, 2]           1,024\n",
      "             ReLU-37            [-1, 512, 2, 2]               0\n",
      "           Conv2d-38            [-1, 512, 2, 2]       2,359,808\n",
      "      BatchNorm2d-39            [-1, 512, 2, 2]           1,024\n",
      "             ReLU-40            [-1, 512, 2, 2]               0\n",
      "           Conv2d-41            [-1, 512, 2, 2]       2,359,808\n",
      "      BatchNorm2d-42            [-1, 512, 2, 2]           1,024\n",
      "             ReLU-43            [-1, 512, 2, 2]               0\n",
      "        MaxPool2d-44            [-1, 512, 1, 1]               0\n",
      "AdaptiveAvgPool2d-45            [-1, 512, 7, 7]               0\n",
      "           Linear-46                 [-1, 4096]     102,764,544\n",
      "             ReLU-47                 [-1, 4096]               0\n",
      "          Dropout-48                 [-1, 4096]               0\n",
      "           Linear-49                 [-1, 4096]      16,781,312\n",
      "             ReLU-50                 [-1, 4096]               0\n",
      "          Dropout-51                 [-1, 4096]               0\n",
      "           Linear-52                   [-1, 43]         176,171\n",
      "              VGG-53                   [-1, 43]               0\n",
      "================================================================\n",
      "Total params: 134,445,163\n",
      "Trainable params: 176,171\n",
      "Non-trainable params: 134,268,992\n",
      "----------------------------------------------------------------\n",
      "Input size (MB): 0.01\n",
      "Forward/backward pass size (MB): 6.95\n",
      "Params size (MB): 512.87\n",
      "Estimated Total Size (MB): 519.83\n",
      "----------------------------------------------------------------\n"
     ]
    }
   ],
   "source": [
    "# Define transfer learning model\n",
    "class TransferLearningVGG(nn.Module):\n",
    "    def __init__(self, num_classes=43):\n",
    "        super(TransferLearningVGG, self).__init__()\n",
    "        \n",
    "        # Load the pre-trained VGG model\n",
    "        self.vgg = models.vgg16_bn(pretrained=True)\n",
    "        \n",
    "        # Freeze the pre-trained layers\n",
    "        for param in self.vgg.parameters():\n",
    "            param.requires_grad = False\n",
    "        \n",
    "        # Modify the classifier to match the number of classes\n",
    "        self.vgg.classifier[6] = nn.Linear(4096, num_classes)\n",
    "        \n",
    "    def forward(self, x):\n",
    "        x = self.vgg(x)\n",
    "        return F.log_softmax(x, dim=1)\n",
    "\n",
    "# Initialize the model, loss function, optimizer, and learning rate scheduler\n",
    "device = torch.device(\"cuda\" if torch.cuda.is_available() else \"cpu\")\n",
    "print(\"device:\", device)\n",
    "model = TransferLearningVGG(num_classes=num_classes).to(device)\n"
   ]
  },
  {
   "cell_type": "code",
   "execution_count": 12,
   "metadata": {},
   "outputs": [
    {
     "name": "stdout",
     "output_type": "stream",
     "text": [
      "----------------------------------------------------------------\n",
      "        Layer (type)               Output Shape         Param #\n",
      "================================================================\n",
      "            Conv2d-1         [-1, 64, 224, 224]           1,792\n",
      "       BatchNorm2d-2         [-1, 64, 224, 224]             128\n",
      "              ReLU-3         [-1, 64, 224, 224]               0\n",
      "            Conv2d-4         [-1, 64, 224, 224]          36,928\n",
      "       BatchNorm2d-5         [-1, 64, 224, 224]             128\n",
      "              ReLU-6         [-1, 64, 224, 224]               0\n",
      "         MaxPool2d-7         [-1, 64, 112, 112]               0\n",
      "            Conv2d-8        [-1, 128, 112, 112]          73,856\n",
      "       BatchNorm2d-9        [-1, 128, 112, 112]             256\n",
      "             ReLU-10        [-1, 128, 112, 112]               0\n",
      "           Conv2d-11        [-1, 128, 112, 112]         147,584\n",
      "      BatchNorm2d-12        [-1, 128, 112, 112]             256\n",
      "             ReLU-13        [-1, 128, 112, 112]               0\n",
      "        MaxPool2d-14          [-1, 128, 56, 56]               0\n",
      "           Conv2d-15          [-1, 256, 56, 56]         295,168\n",
      "      BatchNorm2d-16          [-1, 256, 56, 56]             512\n",
      "             ReLU-17          [-1, 256, 56, 56]               0\n",
      "           Conv2d-18          [-1, 256, 56, 56]         590,080\n",
      "      BatchNorm2d-19          [-1, 256, 56, 56]             512\n",
      "             ReLU-20          [-1, 256, 56, 56]               0\n",
      "           Conv2d-21          [-1, 256, 56, 56]         590,080\n",
      "      BatchNorm2d-22          [-1, 256, 56, 56]             512\n",
      "             ReLU-23          [-1, 256, 56, 56]               0\n",
      "        MaxPool2d-24          [-1, 256, 28, 28]               0\n",
      "           Conv2d-25          [-1, 512, 28, 28]       1,180,160\n",
      "      BatchNorm2d-26          [-1, 512, 28, 28]           1,024\n",
      "             ReLU-27          [-1, 512, 28, 28]               0\n",
      "           Conv2d-28          [-1, 512, 28, 28]       2,359,808\n",
      "      BatchNorm2d-29          [-1, 512, 28, 28]           1,024\n",
      "             ReLU-30          [-1, 512, 28, 28]               0\n",
      "           Conv2d-31          [-1, 512, 28, 28]       2,359,808\n",
      "      BatchNorm2d-32          [-1, 512, 28, 28]           1,024\n",
      "             ReLU-33          [-1, 512, 28, 28]               0\n",
      "        MaxPool2d-34          [-1, 512, 14, 14]               0\n",
      "           Conv2d-35          [-1, 512, 14, 14]       2,359,808\n",
      "      BatchNorm2d-36          [-1, 512, 14, 14]           1,024\n",
      "             ReLU-37          [-1, 512, 14, 14]               0\n",
      "           Conv2d-38          [-1, 512, 14, 14]       2,359,808\n",
      "      BatchNorm2d-39          [-1, 512, 14, 14]           1,024\n",
      "             ReLU-40          [-1, 512, 14, 14]               0\n",
      "           Conv2d-41          [-1, 512, 14, 14]       2,359,808\n",
      "      BatchNorm2d-42          [-1, 512, 14, 14]           1,024\n",
      "             ReLU-43          [-1, 512, 14, 14]               0\n",
      "        MaxPool2d-44            [-1, 512, 7, 7]               0\n",
      "AdaptiveAvgPool2d-45            [-1, 512, 7, 7]               0\n",
      "           Linear-46                 [-1, 4096]     102,764,544\n",
      "             ReLU-47                 [-1, 4096]               0\n",
      "          Dropout-48                 [-1, 4096]               0\n",
      "           Linear-49                 [-1, 4096]      16,781,312\n",
      "             ReLU-50                 [-1, 4096]               0\n",
      "          Dropout-51                 [-1, 4096]               0\n",
      "           Linear-52                   [-1, 43]         176,171\n",
      "              VGG-53                   [-1, 43]               0\n",
      "================================================================\n",
      "Total params: 134,445,163\n",
      "Trainable params: 176,171\n",
      "Non-trainable params: 134,268,992\n",
      "----------------------------------------------------------------\n",
      "Input size (MB): 0.57\n",
      "Forward/backward pass size (MB): 322.13\n",
      "Params size (MB): 512.87\n",
      "Estimated Total Size (MB): 835.58\n",
      "----------------------------------------------------------------\n"
     ]
    }
   ],
   "source": [
    "summary(model, input_size=(3, 224, 224))"
   ]
  },
  {
   "cell_type": "code",
   "execution_count": 13,
   "metadata": {},
   "outputs": [
    {
     "name": "stderr",
     "output_type": "stream",
     "text": [
      "Epoch 1/10 [Training]: 100%|██████████| 981/981 [05:49<00:00,  2.81it/s]\n",
      "Epoch 1/10 [Validation]: 100%|██████████| 246/246 [01:27<00:00,  2.80it/s]\n"
     ]
    },
    {
     "name": "stdout",
     "output_type": "stream",
     "text": [
      "Epoch 1/10, Train Loss: 1.8548, Train Accuracy: 0.4567, Val Loss: 1.2411, Val Accuracy: 0.6069\n"
     ]
    },
    {
     "name": "stderr",
     "output_type": "stream",
     "text": [
      "Epoch 2/10 [Training]: 100%|██████████| 981/981 [05:56<00:00,  2.75it/s]\n",
      "Epoch 2/10 [Validation]: 100%|██████████| 246/246 [01:28<00:00,  2.79it/s]\n"
     ]
    },
    {
     "name": "stdout",
     "output_type": "stream",
     "text": [
      "Epoch 2/10, Train Loss: 1.5027, Train Accuracy: 0.5423, Val Loss: 1.1019, Val Accuracy: 0.6451\n"
     ]
    },
    {
     "name": "stderr",
     "output_type": "stream",
     "text": [
      "Epoch 3/10 [Training]: 100%|██████████| 981/981 [05:57<00:00,  2.74it/s]\n",
      "Epoch 3/10 [Validation]: 100%|██████████| 246/246 [01:29<00:00,  2.76it/s]\n"
     ]
    },
    {
     "name": "stdout",
     "output_type": "stream",
     "text": [
      "Epoch 3/10, Train Loss: 1.4430, Train Accuracy: 0.5629, Val Loss: 0.9964, Val Accuracy: 0.6792\n"
     ]
    },
    {
     "name": "stderr",
     "output_type": "stream",
     "text": [
      "Epoch 4/10 [Training]: 100%|██████████| 981/981 [05:57<00:00,  2.75it/s]\n",
      "Epoch 4/10 [Validation]: 100%|██████████| 246/246 [01:27<00:00,  2.83it/s]\n"
     ]
    },
    {
     "name": "stdout",
     "output_type": "stream",
     "text": [
      "Epoch 4/10, Train Loss: 1.4125, Train Accuracy: 0.5724, Val Loss: 0.9289, Val Accuracy: 0.6968\n"
     ]
    },
    {
     "name": "stderr",
     "output_type": "stream",
     "text": [
      "Epoch 5/10 [Training]: 100%|██████████| 981/981 [05:51<00:00,  2.79it/s]\n",
      "Epoch 5/10 [Validation]: 100%|██████████| 246/246 [01:29<00:00,  2.76it/s]\n"
     ]
    },
    {
     "name": "stdout",
     "output_type": "stream",
     "text": [
      "Epoch 5/10, Train Loss: 1.4146, Train Accuracy: 0.5757, Val Loss: 0.9302, Val Accuracy: 0.6890\n"
     ]
    },
    {
     "name": "stderr",
     "output_type": "stream",
     "text": [
      "Epoch 6/10 [Training]: 100%|██████████| 981/981 [05:56<00:00,  2.75it/s]\n",
      "Epoch 6/10 [Validation]: 100%|██████████| 246/246 [01:28<00:00,  2.77it/s]\n"
     ]
    },
    {
     "name": "stdout",
     "output_type": "stream",
     "text": [
      "Epoch 6/10, Train Loss: 1.2797, Train Accuracy: 0.6043, Val Loss: 0.8376, Val Accuracy: 0.7256\n"
     ]
    },
    {
     "name": "stderr",
     "output_type": "stream",
     "text": [
      "Epoch 7/10 [Training]: 100%|██████████| 981/981 [05:55<00:00,  2.76it/s]\n",
      "Epoch 7/10 [Validation]: 100%|██████████| 246/246 [01:28<00:00,  2.79it/s]\n"
     ]
    },
    {
     "name": "stdout",
     "output_type": "stream",
     "text": [
      "Epoch 7/10, Train Loss: 1.2425, Train Accuracy: 0.6125, Val Loss: 0.8264, Val Accuracy: 0.7306\n"
     ]
    },
    {
     "name": "stderr",
     "output_type": "stream",
     "text": [
      "Epoch 8/10 [Training]: 100%|██████████| 981/981 [05:55<00:00,  2.76it/s]\n",
      "Epoch 8/10 [Validation]: 100%|██████████| 246/246 [01:28<00:00,  2.77it/s]\n"
     ]
    },
    {
     "name": "stdout",
     "output_type": "stream",
     "text": [
      "Epoch 8/10, Train Loss: 1.2335, Train Accuracy: 0.6160, Val Loss: 0.8129, Val Accuracy: 0.7344\n"
     ]
    },
    {
     "name": "stderr",
     "output_type": "stream",
     "text": [
      "Epoch 9/10 [Training]: 100%|██████████| 981/981 [05:55<00:00,  2.76it/s]\n",
      "Epoch 9/10 [Validation]: 100%|██████████| 246/246 [01:28<00:00,  2.79it/s]\n"
     ]
    },
    {
     "name": "stdout",
     "output_type": "stream",
     "text": [
      "Epoch 9/10, Train Loss: 1.2233, Train Accuracy: 0.6169, Val Loss: 0.7959, Val Accuracy: 0.7340\n"
     ]
    },
    {
     "name": "stderr",
     "output_type": "stream",
     "text": [
      "Epoch 10/10 [Training]: 100%|██████████| 981/981 [05:50<00:00,  2.80it/s]\n",
      "Epoch 10/10 [Validation]: 100%|██████████| 246/246 [01:27<00:00,  2.82it/s]\n"
     ]
    },
    {
     "name": "stdout",
     "output_type": "stream",
     "text": [
      "Epoch 10/10, Train Loss: 1.2087, Train Accuracy: 0.6188, Val Loss: 0.7936, Val Accuracy: 0.7362\n",
      "Training completed in 4438.00 seconds\n"
     ]
    }
   ],
   "source": [
    "criterion = nn.CrossEntropyLoss()\n",
    "optimizer = optim.Adam(model.parameters(), lr=0.001)\n",
    "scheduler = optim.lr_scheduler.StepLR(optimizer, step_size=5, gamma=0.1)\n",
    "\n",
    "# Early stopping parameters\n",
    "early_stopping_patience = 3\n",
    "best_val_loss = float('inf')\n",
    "patience_counter = 0\n",
    "\n",
    "# Training and validation logs\n",
    "train_losses = []\n",
    "val_losses = []\n",
    "train_accuracies = []\n",
    "val_accuracies = []\n",
    "\n",
    "# Training loop\n",
    "start_time = time.time()\n",
    "for epoch in range(num_epochs):\n",
    "    model.train()\n",
    "    train_loss = 0.0\n",
    "    correct_train = 0\n",
    "    total_train = 0\n",
    "    for images, labels in tqdm(train_loader, desc=f\"Epoch {epoch+1}/{num_epochs} [Training]\"):\n",
    "        images, labels = images.to(device), labels.to(device)\n",
    "        \n",
    "        optimizer.zero_grad()\n",
    "        outputs = model(images)\n",
    "        loss = criterion(outputs, labels)\n",
    "        loss.backward()\n",
    "        optimizer.step()\n",
    "        \n",
    "        train_loss += loss.item() * images.size(0)\n",
    "        \n",
    "        _, predicted = torch.max(outputs, 1)\n",
    "        total_train += labels.size(0)\n",
    "        correct_train += (predicted == labels).sum().item()\n",
    "    \n",
    "    train_loss /= len(train_loader.dataset)\n",
    "    train_accuracy = correct_train / total_train\n",
    "    train_losses.append(train_loss)\n",
    "    train_accuracies.append(train_accuracy)\n",
    "    \n",
    "    model.eval()\n",
    "    val_loss = 0.0\n",
    "    correct_val = 0\n",
    "    total_val = 0\n",
    "    with torch.no_grad():\n",
    "        for images, labels in tqdm(val_loader, desc=f\"Epoch {epoch+1}/{num_epochs} [Validation]\"):\n",
    "            images, labels = images.to(device), labels.to(device)\n",
    "            \n",
    "            outputs = model(images)\n",
    "            loss = criterion(outputs, labels)\n",
    "            \n",
    "            val_loss += loss.item() * images.size(0)\n",
    "            \n",
    "            _, predicted = torch.max(outputs, 1)\n",
    "            total_val += labels.size(0)\n",
    "            correct_val += (predicted == labels).sum().item()\n",
    "    \n",
    "    val_loss /= len(val_loader.dataset)\n",
    "    val_accuracy = correct_val / total_val\n",
    "    val_losses.append(val_loss)\n",
    "    val_accuracies.append(val_accuracy)\n",
    "    \n",
    "    print(f\"Epoch {epoch+1}/{num_epochs}, Train Loss: {train_loss:.4f}, Train Accuracy: {train_accuracy:.4f}, Val Loss: {val_loss:.4f}, Val Accuracy: {val_accuracy:.4f}\")\n",
    "    \n",
    "    # Save model checkpoint\n",
    "    torch.save(model.state_dict(), os.path.join(model_dir, f\"model_epoch_{epoch+1}.pth\"))\n",
    "    \n",
    "    # Check for early stopping\n",
    "    if val_loss < best_val_loss:\n",
    "        best_val_loss = val_loss\n",
    "        patience_counter = 0\n",
    "    else:\n",
    "        patience_counter += 1\n",
    "        if patience_counter >= early_stopping_patience:\n",
    "            print(\"Early stopping triggered\")\n",
    "            break\n",
    "    \n",
    "    # Step the learning rate scheduler\n",
    "    scheduler.step()\n",
    "\n",
    "end_time = time.time()\n",
    "training_time = end_time - start_time\n",
    "print(f\"Training completed in {training_time:.2f} seconds\")\n",
    "\n",
    "# Save loss and accuracy logs for later analysis\n",
    "np.save(os.path.join(model_dir, \"train_losses.npy\"), np.array(train_losses))\n",
    "np.save(os.path.join(model_dir, \"val_losses.npy\"), np.array(val_losses))\n",
    "np.save(os.path.join(model_dir, \"train_accuracies.npy\"), np.array(train_accuracies))\n",
    "np.save(os.path.join(model_dir, \"val_accuracies.npy\"), np.array(val_accuracies))"
   ]
  },
  {
   "cell_type": "code",
   "execution_count": 14,
   "metadata": {},
   "outputs": [
    {
     "data": {
      "image/png": "[encoded data removed]",
      "text/plain": [
       "<Figure size 1400x500 with 2 Axes>"
      ]
     },
     "metadata": {},
     "output_type": "display_data"
    }
   ],
   "source": [
    "import matplotlib.pyplot as plt\n",
    "import numpy as np\n",
    "\n",
    "# Load the saved logs\n",
    "train_losses = np.load(os.path.join(model_dir, \"train_losses.npy\"))\n",
    "val_losses = np.load(os.path.join(model_dir, \"val_losses.npy\"))\n",
    "train_accuracies = np.load(os.path.join(model_dir, \"train_accuracies.npy\"))\n",
    "val_accuracies = np.load(os.path.join(model_dir, \"val_accuracies.npy\"))\n",
    "\n",
    "# Plot training vs. validation accuracy and loss\n",
    "fig, (ax1, ax2) = plt.subplots(1, 2, figsize=(14, 5))\n",
    "\n",
    "# Plot accuracy\n",
    "ax1.plot(train_accuracies, label='Train Accuracy')\n",
    "ax1.plot(val_accuracies, label='Validation Accuracy')\n",
    "ax1.set_title('Train vs Validation Accuracy')\n",
    "ax1.set_xlabel('Epoch')\n",
    "ax1.set_ylabel('Accuracy')\n",
    "ax1.legend()\n",
    "\n",
    "# Plot loss\n",
    "ax2.plot(train_losses, label='Train Loss')\n",
    "ax2.plot(val_losses, label='Validation Loss')\n",
    "ax2.set_title('Train vs Validation Loss')\n",
    "ax2.set_xlabel('Epoch')\n",
    "ax2.set_ylabel('Loss')\n",
    "ax2.legend()\n",
    "\n",
    "plt.tight_layout()\n",
    "plt.show()"
   ]
  },
  {
   "cell_type": "code",
   "execution_count": null,
   "metadata": {},
   "outputs": [],
   "source": []
  }
 ],
 "metadata": {
  "kernelspec": {
   "display_name": "cv",
   "language": "python",
   "name": "python3"
  },
  "language_info": {
   "codemirror_mode": {
    "name": "ipython",
    "version": 3
   },
   "file_extension": ".py",
   "mimetype": "text/x-python",
   "name": "python",
   "nbconvert_exporter": "python",
   "pygments_lexer": "ipython3",
   "version": "3.10.0"
  }
 },
 "nbformat": 4,
 "nbformat_minor": 2
}
